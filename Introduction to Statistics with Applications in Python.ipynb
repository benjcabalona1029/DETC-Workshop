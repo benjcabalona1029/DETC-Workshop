{
 "cells": [
  {
   "cell_type": "markdown",
   "metadata": {},
   "source": [
    "# Introduction\n",
    "\n",
    "\n",
    "- Statistics is the study of how best to collect, analyze, and draw conclusions from data.\n",
    "- In this notes, we will work on a python object known as a `dataframe`. It's a tabular data similar to that of excel. An example data is shown below.\n",
    "- This is not a python tutorial, it's introductory statistics with some of the applications in Python.\n",
    "- You can run this jupyter notebook on the cloud by going to <a href=\"https://mybinder.org/v2/gh/benjcabalona1029/DETC-Workshop/master\">this</a>  link and choosing the appropriate file name."
   ]
  },
  {
   "cell_type": "code",
   "execution_count": 1,
   "metadata": {},
   "outputs": [],
   "source": [
    "# This is just for some settings\n",
    "from IPython.core.interactiveshell import InteractiveShell\n",
    "InteractiveShell.ast_node_interactivity = \"all\""
   ]
  },
  {
   "cell_type": "code",
   "execution_count": 2,
   "metadata": {},
   "outputs": [
    {
     "data": {
      "text/html": [
       "<div>\n",
       "<style scoped>\n",
       "    .dataframe tbody tr th:only-of-type {\n",
       "        vertical-align: middle;\n",
       "    }\n",
       "\n",
       "    .dataframe tbody tr th {\n",
       "        vertical-align: top;\n",
       "    }\n",
       "\n",
       "    .dataframe thead th {\n",
       "        text-align: right;\n",
       "    }\n",
       "</style>\n",
       "<table border=\"1\" class=\"dataframe\">\n",
       "  <thead>\n",
       "    <tr style=\"text-align: right;\">\n",
       "      <th></th>\n",
       "      <th>Sales</th>\n",
       "      <th>Advertising</th>\n",
       "      <th>Season</th>\n",
       "    </tr>\n",
       "  </thead>\n",
       "  <tbody>\n",
       "    <tr>\n",
       "      <td>0</td>\n",
       "      <td>2741.091348</td>\n",
       "      <td>1014.559605</td>\n",
       "      <td>0</td>\n",
       "    </tr>\n",
       "    <tr>\n",
       "      <td>1</td>\n",
       "      <td>1940.775825</td>\n",
       "      <td>790.564398</td>\n",
       "      <td>1</td>\n",
       "    </tr>\n",
       "    <tr>\n",
       "      <td>2</td>\n",
       "      <td>2947.421974</td>\n",
       "      <td>1104.859227</td>\n",
       "      <td>0</td>\n",
       "    </tr>\n",
       "    <tr>\n",
       "      <td>3</td>\n",
       "      <td>3758.135236</td>\n",
       "      <td>803.407361</td>\n",
       "      <td>0</td>\n",
       "    </tr>\n",
       "    <tr>\n",
       "      <td>4</td>\n",
       "      <td>2807.736707</td>\n",
       "      <td>797.194371</td>\n",
       "      <td>0</td>\n",
       "    </tr>\n",
       "    <tr>\n",
       "      <td>5</td>\n",
       "      <td>1356.145742</td>\n",
       "      <td>838.751170</td>\n",
       "      <td>0</td>\n",
       "    </tr>\n",
       "    <tr>\n",
       "      <td>6</td>\n",
       "      <td>3708.851744</td>\n",
       "      <td>1101.761696</td>\n",
       "      <td>0</td>\n",
       "    </tr>\n",
       "    <tr>\n",
       "      <td>7</td>\n",
       "      <td>2866.364644</td>\n",
       "      <td>780.641034</td>\n",
       "      <td>1</td>\n",
       "    </tr>\n",
       "    <tr>\n",
       "      <td>8</td>\n",
       "      <td>3500.841560</td>\n",
       "      <td>957.627052</td>\n",
       "      <td>0</td>\n",
       "    </tr>\n",
       "    <tr>\n",
       "      <td>9</td>\n",
       "      <td>4257.200342</td>\n",
       "      <td>1125.455506</td>\n",
       "      <td>0</td>\n",
       "    </tr>\n",
       "  </tbody>\n",
       "</table>\n",
       "</div>"
      ],
      "text/plain": [
       "         Sales  Advertising  Season\n",
       "0  2741.091348  1014.559605       0\n",
       "1  1940.775825   790.564398       1\n",
       "2  2947.421974  1104.859227       0\n",
       "3  3758.135236   803.407361       0\n",
       "4  2807.736707   797.194371       0\n",
       "5  1356.145742   838.751170       0\n",
       "6  3708.851744  1101.761696       0\n",
       "7  2866.364644   780.641034       1\n",
       "8  3500.841560   957.627052       0\n",
       "9  4257.200342  1125.455506       0"
      ]
     },
     "execution_count": 2,
     "metadata": {},
     "output_type": "execute_result"
    }
   ],
   "source": [
    "import pandas as pd\n",
    "import numpy as np\n",
    "\n",
    "data = pd.read_csv('sales.csv')\n",
    "data.head(10)"
   ]
  },
  {
   "cell_type": "markdown",
   "metadata": {},
   "source": [
    "## Types of Data\n",
    "\n",
    "- Numeric Data\n",
    " - Discrete : Something that can be counted. Some examples are number of balls owned, number of children in a household etc.\n",
    " - Continuous : Real-Valued. Contains rational or irrational numbers. Some examples are house prices, temperature etc.\n",
    " \n",
    "- Categorical Data\n",
    " - Nominal : It's a type of a categorical variable that has no inherent order in it. Some examples are color of the cars, male or females, different countries, names etc.\n",
    " - Ordinal : It's a type of categorical variable that has a specific order in it. Some example are, rankings (Good, Better, Best) (Agree, Neutral, Disagree) etc.\n",
    " \n",
    " \n",
    " \n",
    "## Measure of Central Tendency\n",
    "\n",
    "- As the name implies, it gives us a numerical summary of the data. Specifically it tells us the center of the data.\n",
    "- It's easiest to think about measure of central tendency as 'different types of averages'.\n",
    "\n",
    "### Mean\n",
    "\n",
    "- The mean is the easiest, and you have probably used the mean before. It is simply the \"sum of all the data divided by the number of data\" or more formally as below: \n",
    "$$\\bar{x} = \\sum_{i=1}^{n} \\frac{x_i}{n}$$\n",
    "\n",
    "Going back to our example data above, this is how we *Mean* of the `Sales` column."
   ]
  },
  {
   "cell_type": "code",
   "execution_count": 3,
   "metadata": {},
   "outputs": [
    {
     "data": {
      "text/plain": [
       "3292.6012293132967"
      ]
     },
     "execution_count": 3,
     "metadata": {},
     "output_type": "execute_result"
    }
   ],
   "source": [
    "data['Sales'].mean()"
   ]
  },
  {
   "cell_type": "markdown",
   "metadata": {},
   "source": [
    "### Median\n",
    "\n",
    "- Is the middle value.\n",
    "- Steps to get the median:\n",
    " - Sort the data.\n",
    " - If the number of datapoints is odd, the median is the middle value.\n",
    " - If the number of datapoints is even, take the mean of the 2 middle values.\n",
    " \n",
    "Let me give an example to clear that up. Suppose we have the dataset below:\n",
    "\n",
    "Height = [163, 158, 149, 144, 160]\n",
    "\n",
    "Step 1 - Sort the data : <br>\n",
    "[144, 149, 158, 160, 163] <br>\n",
    "Step 2 - Since there are 5 datapoints, the median is simply the middle value, which is 158.\n",
    "\n",
    "Weight = [53, 62, 49, 44]\n",
    "\n",
    "Step 1 - Sort the data: <br>\n",
    "[44, 49, 53, 62] <br>\n",
    "Step 2 - Since there are 4 datapoints, we need to take the mean of `49` and `53`. Therefore the median is 51.\n",
    "\n",
    "Similar to the above code, this is how we get the median of the `Sales` column."
   ]
  },
  {
   "cell_type": "code",
   "execution_count": 4,
   "metadata": {},
   "outputs": [
    {
     "data": {
      "text/plain": [
       "3300.597735345358"
      ]
     },
     "execution_count": 4,
     "metadata": {},
     "output_type": "execute_result"
    }
   ],
   "source": [
    "data['Sales'].median()"
   ]
  },
  {
   "cell_type": "markdown",
   "metadata": {},
   "source": [
    "### Mode\n",
    "\n",
    "- The mode is the most frequent value. If there are 2 most frequent value, then we say that the data is *bimodal*. In general, if there are more than 2 most frequent value we say that the data is *multimodal*.\n",
    "\n",
    "Example :\n",
    "\n",
    "Pebbles = [6, 3, 9, 6, 6, 5, 9, 3] <br>\n",
    "The mode is 6. (it occurs most often).\n",
    "\n",
    "Pebbles = [1,1,2,2,4,5,6] <br>\n",
    "The modes are 1 and 2.\n",
    "\n",
    "Note that Mode only makes sense if the data is either Categorical or Discrete.\n",
    "\n",
    "\n",
    "### When to use Median or Mode?\n",
    "\n",
    "If there is an 'outlier' in the dataset, use the median (Or if the dataset is *skewed*) Let me illustrate this with an example."
   ]
  },
  {
   "cell_type": "code",
   "execution_count": 5,
   "metadata": {},
   "outputs": [],
   "source": [
    "salary = [10000,14000,13000,50000]"
   ]
  },
  {
   "cell_type": "code",
   "execution_count": 6,
   "metadata": {},
   "outputs": [
    {
     "name": "stdout",
     "output_type": "stream",
     "text": [
      "mean 21750.0\n"
     ]
    }
   ],
   "source": [
    "#Suppose you used the mean\n",
    "print('mean',sum(salary)/len(salary))"
   ]
  },
  {
   "cell_type": "markdown",
   "metadata": {},
   "source": [
    "Is 21,750 really the average salary ?"
   ]
  },
  {
   "cell_type": "code",
   "execution_count": 7,
   "metadata": {},
   "outputs": [
    {
     "name": "stdout",
     "output_type": "stream",
     "text": [
      "median 13500.0 This makes more sense.\n"
     ]
    }
   ],
   "source": [
    "# Suppose you used the median\n",
    "\n",
    "data_1 = pd.DataFrame()\n",
    "data_1['salary'] = salary\n",
    "print('median',data_1['salary'].median(),'This makes more sense.')"
   ]
  },
  {
   "cell_type": "markdown",
   "metadata": {},
   "source": [
    "## Measure of Spread\n",
    "\n",
    "### Variance and Standard Deviation\n",
    "\n",
    "- Variance measures how much each data point deviates from the mean. Numerically, this is given by :$$\\sigma^2 = \\sum_{i=1}^{n} \\frac{(x_i-\\bar{x})^2}{n-1}$$\n",
    "\n",
    "One issue with the variance is that, it's unit is squared, and that's something that is hard to interpret. We can take it's square root, and we will get the *standard deviation* denoted by $\\sigma.$\n",
    "\n",
    "Let's print the Variance and Standard deviation from a Pandas DataFrame."
   ]
  },
  {
   "cell_type": "code",
   "execution_count": 8,
   "metadata": {},
   "outputs": [
    {
     "name": "stdout",
     "output_type": "stream",
     "text": [
      "Variance: 883034.7884363923\n",
      "Standard Deviation: 939.6993074576528\n"
     ]
    }
   ],
   "source": [
    "print('Variance:',(data['Sales'].std())**2)\n",
    "print('Standard Deviation:',data['Sales'].std())"
   ]
  },
  {
   "cell_type": "markdown",
   "metadata": {},
   "source": [
    "Below is the quick Python command to display the quick summary statistics of a dataframe."
   ]
  },
  {
   "cell_type": "code",
   "execution_count": 9,
   "metadata": {},
   "outputs": [
    {
     "data": {
      "text/html": [
       "<div>\n",
       "<style scoped>\n",
       "    .dataframe tbody tr th:only-of-type {\n",
       "        vertical-align: middle;\n",
       "    }\n",
       "\n",
       "    .dataframe tbody tr th {\n",
       "        vertical-align: top;\n",
       "    }\n",
       "\n",
       "    .dataframe thead th {\n",
       "        text-align: right;\n",
       "    }\n",
       "</style>\n",
       "<table border=\"1\" class=\"dataframe\">\n",
       "  <thead>\n",
       "    <tr style=\"text-align: right;\">\n",
       "      <th></th>\n",
       "      <th>Sales</th>\n",
       "      <th>Advertising</th>\n",
       "      <th>Season</th>\n",
       "    </tr>\n",
       "  </thead>\n",
       "  <tbody>\n",
       "    <tr>\n",
       "      <td>count</td>\n",
       "      <td>500.000000</td>\n",
       "      <td>500.000000</td>\n",
       "      <td>500.000000</td>\n",
       "    </tr>\n",
       "    <tr>\n",
       "      <td>mean</td>\n",
       "      <td>3292.601229</td>\n",
       "      <td>1007.219303</td>\n",
       "      <td>0.272000</td>\n",
       "    </tr>\n",
       "    <tr>\n",
       "      <td>std</td>\n",
       "      <td>939.699307</td>\n",
       "      <td>255.556420</td>\n",
       "      <td>0.445436</td>\n",
       "    </tr>\n",
       "    <tr>\n",
       "      <td>min</td>\n",
       "      <td>243.342237</td>\n",
       "      <td>351.805274</td>\n",
       "      <td>0.000000</td>\n",
       "    </tr>\n",
       "    <tr>\n",
       "      <td>25%</td>\n",
       "      <td>2672.736612</td>\n",
       "      <td>828.484271</td>\n",
       "      <td>0.000000</td>\n",
       "    </tr>\n",
       "    <tr>\n",
       "      <td>50%</td>\n",
       "      <td>3300.597735</td>\n",
       "      <td>1002.320382</td>\n",
       "      <td>0.000000</td>\n",
       "    </tr>\n",
       "    <tr>\n",
       "      <td>75%</td>\n",
       "      <td>3896.906729</td>\n",
       "      <td>1192.226940</td>\n",
       "      <td>1.000000</td>\n",
       "    </tr>\n",
       "    <tr>\n",
       "      <td>max</td>\n",
       "      <td>5976.264097</td>\n",
       "      <td>1918.032460</td>\n",
       "      <td>1.000000</td>\n",
       "    </tr>\n",
       "  </tbody>\n",
       "</table>\n",
       "</div>"
      ],
      "text/plain": [
       "             Sales  Advertising      Season\n",
       "count   500.000000   500.000000  500.000000\n",
       "mean   3292.601229  1007.219303    0.272000\n",
       "std     939.699307   255.556420    0.445436\n",
       "min     243.342237   351.805274    0.000000\n",
       "25%    2672.736612   828.484271    0.000000\n",
       "50%    3300.597735  1002.320382    0.000000\n",
       "75%    3896.906729  1192.226940    1.000000\n",
       "max    5976.264097  1918.032460    1.000000"
      ]
     },
     "execution_count": 9,
     "metadata": {},
     "output_type": "execute_result"
    }
   ],
   "source": [
    "data.describe()"
   ]
  },
  {
   "cell_type": "markdown",
   "metadata": {},
   "source": [
    "## A Primer on Visualizing Data\n",
    " \n",
    " \n",
    " Often times, we are concerned on:\n",
    " \n",
    " - The structure of the data.\n",
    " - How different types of data changes with eact other.\n",
    " \n",
    "And of course, there are analytical ways to describe the above scenarios but most of the times, we can answer it by simply plotting the data.\n",
    "\n",
    "### Histogram\n",
    "\n",
    "- Univariate (Single Variable at a time)\n",
    "- Shows the distribution of your data by binning it. The taller the bin means more observations lie on that bin.\n",
    "\n",
    "You can watch  <a href=\"https://www.youtube.com/watch?v=qBigTkBLU6g\">this</a>  excellent video from StatQuest for more explanation."
   ]
  },
  {
   "cell_type": "code",
   "execution_count": 10,
   "metadata": {},
   "outputs": [],
   "source": [
    "import seaborn as sns\n",
    "\n",
    "sns.set(style='darkgrid')"
   ]
  },
  {
   "cell_type": "code",
   "execution_count": 11,
   "metadata": {},
   "outputs": [
    {
     "data": {
      "text/plain": [
       "<matplotlib.axes._subplots.AxesSubplot at 0x7f032789be48>"
      ]
     },
     "execution_count": 11,
     "metadata": {},
     "output_type": "execute_result"
    },
    {
     "data": {
      "image/png": "[encoded data removed]",
      "text/plain": [
       "<Figure size 432x288 with 1 Axes>"
      ]
     },
     "metadata": {},
     "output_type": "display_data"
    }
   ],
   "source": [
    "sns.distplot(data['Sales'],bins=20,kde=False)"
   ]
  },
  {
   "cell_type": "markdown",
   "metadata": {},
   "source": [
    "### Boxplot\n",
    "\n",
    "- The isolated points are outliers.\n",
    "- The middle line represents the median."
   ]
  },
  {
   "cell_type": "code",
   "execution_count": 12,
   "metadata": {},
   "outputs": [
    {
     "data": {
      "text/plain": [
       "<matplotlib.axes._subplots.AxesSubplot at 0x7f0326eb1080>"
      ]
     },
     "execution_count": 12,
     "metadata": {},
     "output_type": "execute_result"
    },
    {
     "data": {
      "image/png": "[encoded data removed]",
      "text/plain": [
       "<Figure size 432x288 with 1 Axes>"
      ]
     },
     "metadata": {},
     "output_type": "display_data"
    }
   ],
   "source": [
    "sns.boxplot(data['Sales'])"
   ]
  },
  {
   "cell_type": "markdown",
   "metadata": {},
   "source": [
    "### Scatterplot\n",
    "\n",
    "- Shows relationship between two numeric variables."
   ]
  },
  {
   "cell_type": "code",
   "execution_count": 13,
   "metadata": {},
   "outputs": [
    {
     "data": {
      "text/plain": [
       "<matplotlib.axes._subplots.AxesSubplot at 0x7f0326e191d0>"
      ]
     },
     "execution_count": 13,
     "metadata": {},
     "output_type": "execute_result"
    },
    {
     "data": {
      "image/png": "[encoded data removed]",
      "text/plain": [
       "<Figure size 432x288 with 1 Axes>"
      ]
     },
     "metadata": {},
     "output_type": "display_data"
    }
   ],
   "source": [
    "sns.scatterplot(data['Sales'],data['Advertising'])"
   ]
  },
  {
   "cell_type": "markdown",
   "metadata": {},
   "source": [
    "### Barplot\n",
    "\n",
    "- Shows relationship between between\n",
    "- Two Categorical Variables\n",
    "- Categorical and Numeric"
   ]
  },
  {
   "cell_type": "code",
   "execution_count": 14,
   "metadata": {},
   "outputs": [
    {
     "data": {
      "text/plain": [
       "<matplotlib.axes._subplots.AxesSubplot at 0x7f0326d83fd0>"
      ]
     },
     "execution_count": 14,
     "metadata": {},
     "output_type": "execute_result"
    },
    {
     "data": {
      "image/png": "[encoded data removed]",
      "text/plain": [
       "<Figure size 432x288 with 1 Axes>"
      ]
     },
     "metadata": {},
     "output_type": "display_data"
    }
   ],
   "source": [
    "sns.barplot(x=data['Season'],y=data['Sales'])"
   ]
  },
  {
   "cell_type": "markdown",
   "metadata": {},
   "source": [
    "**Note** To make it more clear, let me show you how the same information from the barplot can be achieved numerically using a pivot table."
   ]
  },
  {
   "cell_type": "code",
   "execution_count": 15,
   "metadata": {},
   "outputs": [
    {
     "data": {
      "text/html": [
       "<div>\n",
       "<style scoped>\n",
       "    .dataframe tbody tr th:only-of-type {\n",
       "        vertical-align: middle;\n",
       "    }\n",
       "\n",
       "    .dataframe tbody tr th {\n",
       "        vertical-align: top;\n",
       "    }\n",
       "\n",
       "    .dataframe thead th {\n",
       "        text-align: right;\n",
       "    }\n",
       "</style>\n",
       "<table border=\"1\" class=\"dataframe\">\n",
       "  <thead>\n",
       "    <tr style=\"text-align: right;\">\n",
       "      <th></th>\n",
       "      <th>Sales</th>\n",
       "    </tr>\n",
       "    <tr>\n",
       "      <th>Season</th>\n",
       "      <th></th>\n",
       "    </tr>\n",
       "  </thead>\n",
       "  <tbody>\n",
       "    <tr>\n",
       "      <td>0</td>\n",
       "      <td>3304.708296</td>\n",
       "    </tr>\n",
       "    <tr>\n",
       "      <td>1</td>\n",
       "      <td>3260.197023</td>\n",
       "    </tr>\n",
       "  </tbody>\n",
       "</table>\n",
       "</div>"
      ],
      "text/plain": [
       "              Sales\n",
       "Season             \n",
       "0       3304.708296\n",
       "1       3260.197023"
      ]
     },
     "execution_count": 15,
     "metadata": {},
     "output_type": "execute_result"
    }
   ],
   "source": [
    "pd.pivot_table(index='Season',values='Sales',aggfunc=np.mean,data=data)"
   ]
  },
  {
   "cell_type": "markdown",
   "metadata": {},
   "source": [
    "Knowing the above concept can actually take you far. In most practical cases, those simple calculations are enough to get meaningful insights from data. I recommend to watch <a href=\"https://www.youtube.com/watch?v=f2Pb0X0LfLo&t=630s\">this</a>  youtube video by Isaac Reyes to learn more about effective data visualization."
   ]
  },
  {
   "cell_type": "markdown",
   "metadata": {},
   "source": [
    "# Introduction to Inference\n",
    "\n",
    "The material will be based on the book from OpenIntro Statistics. \n",
    "The book is free and you can download it from <a href=\"https://www.openintro.org/book/os/\">here.</a> \n",
    "\n",
    "The examples that we will be using are different but the above book is an excellent introductory textbook.\n",
    "\n",
    "\n",
    "## Variability in Estimates\n",
    "\n",
    "Consider the dataset below. It shows the income of 200 Data Scientist in Metro Manila. Using the said data, we wish to answer the Question: \n",
    "\n",
    "\"What is the average income of a \"Data Scientist\" working in Metro Manila?\"\n",
    "\n",
    "**Note** Don't worry about the code below. It's just for simulating a dataset."
   ]
  },
  {
   "cell_type": "code",
   "execution_count": 16,
   "metadata": {},
   "outputs": [
    {
     "data": {
      "text/html": [
       "<div>\n",
       "<style scoped>\n",
       "    .dataframe tbody tr th:only-of-type {\n",
       "        vertical-align: middle;\n",
       "    }\n",
       "\n",
       "    .dataframe tbody tr th {\n",
       "        vertical-align: top;\n",
       "    }\n",
       "\n",
       "    .dataframe thead th {\n",
       "        text-align: right;\n",
       "    }\n",
       "</style>\n",
       "<table border=\"1\" class=\"dataframe\">\n",
       "  <thead>\n",
       "    <tr style=\"text-align: right;\">\n",
       "      <th></th>\n",
       "      <th>Data Scientist</th>\n",
       "    </tr>\n",
       "  </thead>\n",
       "  <tbody>\n",
       "    <tr>\n",
       "      <td>0</td>\n",
       "      <td>49666.268047</td>\n",
       "    </tr>\n",
       "    <tr>\n",
       "      <td>1</td>\n",
       "      <td>58072.405364</td>\n",
       "    </tr>\n",
       "    <tr>\n",
       "      <td>2</td>\n",
       "      <td>63548.175114</td>\n",
       "    </tr>\n",
       "    <tr>\n",
       "      <td>3</td>\n",
       "      <td>55073.029609</td>\n",
       "    </tr>\n",
       "    <tr>\n",
       "      <td>4</td>\n",
       "      <td>59209.254099</td>\n",
       "    </tr>\n",
       "    <tr>\n",
       "      <td>5</td>\n",
       "      <td>59306.730856</td>\n",
       "    </tr>\n",
       "    <tr>\n",
       "      <td>6</td>\n",
       "      <td>76658.863951</td>\n",
       "    </tr>\n",
       "    <tr>\n",
       "      <td>7</td>\n",
       "      <td>70590.799779</td>\n",
       "    </tr>\n",
       "  </tbody>\n",
       "</table>\n",
       "</div>"
      ],
      "text/plain": [
       "   Data Scientist\n",
       "0    49666.268047\n",
       "1    58072.405364\n",
       "2    63548.175114\n",
       "3    55073.029609\n",
       "4    59209.254099\n",
       "5    59306.730856\n",
       "6    76658.863951\n",
       "7    70590.799779"
      ]
     },
     "execution_count": 16,
     "metadata": {},
     "output_type": "execute_result"
    },
    {
     "data": {
      "text/plain": [
       "<matplotlib.axes._subplots.AxesSubplot at 0x7f0326cfa9e8>"
      ]
     },
     "execution_count": 16,
     "metadata": {},
     "output_type": "execute_result"
    },
    {
     "data": {
      "image/png": "[encoded data removed]",
      "text/plain": [
       "<Figure size 432x288 with 1 Axes>"
      ]
     },
     "metadata": {},
     "output_type": "display_data"
    }
   ],
   "source": [
    "def create_data():\n",
    "    x = np.random.normal(60000,15000,200)\n",
    "    income = pd.DataFrame()\n",
    "    income['Data Scientist'] = x\n",
    "    return income\n",
    "\n",
    "income = create_data()\n",
    "income.head(8)\n",
    "sns.distplot(income['Data Scientist'],kde=False,bins=40)"
   ]
  },
  {
   "cell_type": "markdown",
   "metadata": {},
   "source": [
    "\n",
    "### Point Estimates\n",
    "\n",
    "We wanted to estimate the average income of the entire data scientists in Metro Manila. In other words, we wanted to estimate the **population mean** using the data that we have. The most intuitive way to do this is by taking the **sample mean** (i.e. the mean income based on our data.) We can simply do that by:"
   ]
  },
  {
   "cell_type": "code",
   "execution_count": 17,
   "metadata": {},
   "outputs": [
    {
     "data": {
      "text/plain": [
       "59957.9622768733"
      ]
     },
     "execution_count": 17,
     "metadata": {},
     "output_type": "execute_result"
    }
   ],
   "source": [
    "income['Data Scientist'].mean()"
   ]
  },
  {
   "cell_type": "markdown",
   "metadata": {},
   "source": [
    "Note that the data is simulated. And the underlying distribution has a mean of 60,000. Notice how close our estimate is!\n",
    "\n",
    "Suppose that we get another sample of income (In fact you can do that by re running the cell or the entire notebook).  We are not likely to get the EXACT same result.  Estimates generally vary from one sample to another, and this **sampling variation** suggests our estimate may be close, but it will not be exactly equal to the parameter."
   ]
  },
  {
   "cell_type": "markdown",
   "metadata": {},
   "source": [
    "### Standard Error\n",
    "\n",
    "Suppose that we took another set of income and compute its mean: 59024.85582383834, and another set of income and compute its mean: 61010.14615678205. If we keep doing this (say a thousand times), we will obtain a **sampling distribution** of the sample mean. We will do this and then we will plot the result."
   ]
  },
  {
   "cell_type": "code",
   "execution_count": 18,
   "metadata": {},
   "outputs": [
    {
     "data": {
      "text/plain": [
       "<matplotlib.axes._subplots.AxesSubplot at 0x7f0326c4c908>"
      ]
     },
     "execution_count": 18,
     "metadata": {},
     "output_type": "execute_result"
    },
    {
     "data": {
      "image/png": "[encoded data removed]",
      "text/plain": [
       "<Figure size 432x288 with 1 Axes>"
      ]
     },
     "metadata": {},
     "output_type": "display_data"
    }
   ],
   "source": [
    "sample_means = []\n",
    "for i in range(1,1001):\n",
    "    y = create_data()\n",
    "    sample_means.append(y['Data Scientist'].mean())\n",
    "    \n",
    "sampling_distribution = pd.DataFrame()\n",
    "sampling_distribution['sample_means'] = sample_means\n",
    "sns.distplot(sampling_distribution['sample_means'],kde=False,bins=40)"
   ]
  },
  {
   "cell_type": "markdown",
   "metadata": {},
   "source": [
    "More formally, the sampling distribution will follow a **Normal Distribution** with a mean equal to the POPULATION MEAN. This is true by the central limit theorem. The standard deviation of the sampling distribution is called the **standard error.**\n",
    "\n",
    "\n",
    "The standard error can be approximated by the sample standard deviation divided by $\\sqrt{n}$ and the estimate tends to be good if n > 30.\n",
    "\n",
    "The proof of the above is beyond the scope of this introductory notes, other details is discussed in the book.\n",
    "\n",
    "\n",
    "**Note** We have only discuss the SE of the mean, but just know that almost every point estimate has their corresponding SE.\n",
    "\n",
    "So far, we have discussed the following points:\n",
    "\n",
    "- Point Estimates can be used to estimate the population parameter.\n",
    "- The estimates are not exact.\n",
    "- We quantified the uncertainty of the sample mean using what we call the standard error.\n",
    "\n",
    "### Confidence Interval\n",
    "Instead of supplying just a point estimate of a parameter, a next logical step would be to provide a plausible range of values for the parameter called the *Confidence Interval*.\n",
    "\n",
    "Remember from above, we highlighted that the main take away is that SE is simply the standard deviation of the sampling distribution, now this is where it becomes useful. Since the sampling distribution follows a Normal Distribution, we know that roughly 95% of the time the point estimates (sample means) will be within 2 standard errors of the true (population) mean. Mathematically that is $$\\mu \\pm 2 \\cdot SE$$\n",
    "\n",
    "To really drive the point, let us compute that in Python."
   ]
  },
  {
   "cell_type": "code",
   "execution_count": 21,
   "metadata": {},
   "outputs": [
    {
     "name": "stdout",
     "output_type": "stream",
     "text": [
      "Mean 59957.9622768733\n",
      "Std 15380.919779042082\n",
      "Standard Error 1087.595267664695\n",
      "( 57782.77174154391 , 62133.152812202694 )\n",
      "Using 1.96 tends to have better approximation\n",
      "( 57826.2755522505 , 62089.6490014961 )\n"
     ]
    }
   ],
   "source": [
    "sample_mean = income['Data Scientist'].mean()\n",
    "sample_std = income['Data Scientist'].std()\n",
    "standard_error = sample_std / (np.sqrt(income.shape[0]))\n",
    "print('Mean',sample_mean)\n",
    "print('Std',sample_std)\n",
    "print('Standard Error',standard_error)\n",
    "print('(',sample_mean-2*standard_error,',',sample_mean+2*standard_error,')')\n",
    "print('Using 1.96 tends to have better approximation:')\n",
    "print('(',sample_mean-1.96*standard_error,',',sample_mean+1.96*standard_error,')')"
   ]
  },
  {
   "cell_type": "code",
   "execution_count": 20,
   "metadata": {},
   "outputs": [
    {
     "name": "stdout",
     "output_type": "stream",
     "text": [
      "(57826.3147224943, 62089.6098312523)\n"
     ]
    }
   ],
   "source": [
    "# Sanity Check\n",
    "import scipy.stats as st\n",
    "se = st.sem(income['Data Scientist'])\n",
    "a = st.norm.interval(0.95, loc=sample_mean, scale=standard_error)\n",
    "print(a)"
   ]
  },
  {
   "cell_type": "markdown",
   "metadata": {},
   "source": [
    "Note that the small discrepancy above is mostly due to numerical precision."
   ]
  },
  {
   "cell_type": "markdown",
   "metadata": {},
   "source": [
    "### Hypothesis Testing\n",
    "\n",
    "- Is a statistical technique used to evaluate competing claims using data.\n",
    "- The null hypothesis usually takes a stance of no  difference or no  effect. \n",
    "- (**More formally**) We reject a null hypothesis depending if its *p-value* is less than a set significance level called $\\alpha.$ Otherwise, we fail to reject the null hypothesis. We will discuss this further in the next section.\n",
    " - The p-value is the probability of observing data at least as favorable to the alternative hypothesis as our current data set, if the null hypothesis were true.\n",
    "- We present an example below that captures the essence of Hypothesis Testing.\n",
    " \n",
    "**Example** <br>\n",
    "Suppose there was a HR company that claimed that the average salary of a Data Scientist in Metro Manila is 50,000. We wanted to check if our sampled data provides strong evidence to disprove the HR company's claim.\n",
    "\n",
    "To answer the above question, we will label the two competing claims $H_0$ and $H_A$:\n",
    "\n",
    "$H_0$ (Null Hypothesis) : Our sampled data was the same as the reported average salary of 50,000.\n",
    "\n",
    "$H_A$ (Alternative Hypothesis) : Our sampled data **is not** the same as the reported average salary.\n",
    "\n",
    "We will basically re-run the code above to generate the 95% confidence interval, and check if 50,000 is in that interval. Since it's not, therefore we reject the null hypothesis, and indeed our sampled data is not the same as the reported average."
   ]
  }
 ],
 "metadata": {
  "kernelspec": {
   "display_name": "Python 3",
   "language": "python",
   "name": "python3"
  },
  "language_info": {
   "codemirror_mode": {
    "name": "ipython",
    "version": 3
   },
   "file_extension": ".py",
   "mimetype": "text/x-python",
   "name": "python",
   "nbconvert_exporter": "python",
   "pygments_lexer": "ipython3",
   "version": "3.6.8"
  },
  "toc": {
   "base_numbering": 1,
   "nav_menu": {},
   "number_sections": true,
   "sideBar": true,
   "skip_h1_title": false,
   "title_cell": "Table of Contents",
   "title_sidebar": "Contents",
   "toc_cell": false,
   "toc_position": {
    "height": "calc(100% - 180px)",
    "left": "10px",
    "top": "150px",
    "width": "307.2px"
   },
   "toc_section_display": true,
   "toc_window_display": true
  }
 },
 "nbformat": 4,
 "nbformat_minor": 2
}
